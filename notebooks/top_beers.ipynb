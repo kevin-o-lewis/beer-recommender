{
 "cells": [
  {
   "cell_type": "code",
   "execution_count": 1,
   "id": "9307809d",
   "metadata": {},
   "outputs": [],
   "source": [
    "import pandas as pd"
   ]
  },
  {
   "cell_type": "code",
   "execution_count": 54,
   "id": "4956d6b3",
   "metadata": {},
   "outputs": [
    {
     "name": "stderr",
     "output_type": "stream",
     "text": [
      "/Users/kevin/opt/anaconda3/lib/python3.7/site-packages/numpy/lib/arraysetops.py:580: FutureWarning: elementwise comparison failed; returning scalar instead, but in the future will perform elementwise comparison\n",
      "  mask |= (ar1 == a)\n"
     ]
    }
   ],
   "source": [
    "reviews = pd.read_csv('../data/large_files/reviews_dropped_nulls.csv', index_col=0)"
   ]
  },
  {
   "cell_type": "code",
   "execution_count": 55,
   "id": "8bc2735a",
   "metadata": {},
   "outputs": [],
   "source": [
    "reviews = reviews[['review_profilename', 'beer_beerid', 'review_overall']]"
   ]
  },
  {
   "cell_type": "code",
   "execution_count": 57,
   "id": "2fb6e696",
   "metadata": {},
   "outputs": [
    {
     "data": {
      "text/html": [
       "<div>\n",
       "<style scoped>\n",
       "    .dataframe tbody tr th:only-of-type {\n",
       "        vertical-align: middle;\n",
       "    }\n",
       "\n",
       "    .dataframe tbody tr th {\n",
       "        vertical-align: top;\n",
       "    }\n",
       "\n",
       "    .dataframe thead th {\n",
       "        text-align: right;\n",
       "    }\n",
       "</style>\n",
       "<table border=\"1\" class=\"dataframe\">\n",
       "  <thead>\n",
       "    <tr style=\"text-align: right;\">\n",
       "      <th></th>\n",
       "      <th>review_profilename</th>\n",
       "      <th>beer_beerid</th>\n",
       "      <th>review_overall</th>\n",
       "    </tr>\n",
       "  </thead>\n",
       "  <tbody>\n",
       "    <tr>\n",
       "      <th>0</th>\n",
       "      <td>stcules</td>\n",
       "      <td>47986</td>\n",
       "      <td>3.0</td>\n",
       "    </tr>\n",
       "    <tr>\n",
       "      <th>1</th>\n",
       "      <td>stcules</td>\n",
       "      <td>48213</td>\n",
       "      <td>6.0</td>\n",
       "    </tr>\n",
       "    <tr>\n",
       "      <th>2</th>\n",
       "      <td>stcules</td>\n",
       "      <td>48215</td>\n",
       "      <td>6.0</td>\n",
       "    </tr>\n",
       "    <tr>\n",
       "      <th>3</th>\n",
       "      <td>stcules</td>\n",
       "      <td>47969</td>\n",
       "      <td>6.0</td>\n",
       "    </tr>\n",
       "    <tr>\n",
       "      <th>4</th>\n",
       "      <td>johnmichaelsen</td>\n",
       "      <td>64883</td>\n",
       "      <td>8.0</td>\n",
       "    </tr>\n",
       "    <tr>\n",
       "      <th>...</th>\n",
       "      <td>...</td>\n",
       "      <td>...</td>\n",
       "      <td>...</td>\n",
       "    </tr>\n",
       "    <tr>\n",
       "      <th>1586609</th>\n",
       "      <td>maddogruss</td>\n",
       "      <td>33061</td>\n",
       "      <td>10.0</td>\n",
       "    </tr>\n",
       "    <tr>\n",
       "      <th>1586610</th>\n",
       "      <td>yelterdow</td>\n",
       "      <td>33061</td>\n",
       "      <td>8.0</td>\n",
       "    </tr>\n",
       "    <tr>\n",
       "      <th>1586611</th>\n",
       "      <td>TongoRad</td>\n",
       "      <td>33061</td>\n",
       "      <td>9.0</td>\n",
       "    </tr>\n",
       "    <tr>\n",
       "      <th>1586612</th>\n",
       "      <td>dherling</td>\n",
       "      <td>33061</td>\n",
       "      <td>8.0</td>\n",
       "    </tr>\n",
       "    <tr>\n",
       "      <th>1586613</th>\n",
       "      <td>cbl2</td>\n",
       "      <td>33061</td>\n",
       "      <td>10.0</td>\n",
       "    </tr>\n",
       "  </tbody>\n",
       "</table>\n",
       "<p>1518478 rows × 3 columns</p>\n",
       "</div>"
      ],
      "text/plain": [
       "        review_profilename  beer_beerid  review_overall\n",
       "0                  stcules        47986             3.0\n",
       "1                  stcules        48213             6.0\n",
       "2                  stcules        48215             6.0\n",
       "3                  stcules        47969             6.0\n",
       "4           johnmichaelsen        64883             8.0\n",
       "...                    ...          ...             ...\n",
       "1586609         maddogruss        33061            10.0\n",
       "1586610          yelterdow        33061             8.0\n",
       "1586611           TongoRad        33061             9.0\n",
       "1586612           dherling        33061             8.0\n",
       "1586613               cbl2        33061            10.0\n",
       "\n",
       "[1518478 rows x 3 columns]"
      ]
     },
     "execution_count": 57,
     "metadata": {},
     "output_type": "execute_result"
    }
   ],
   "source": [
    "reviews['review_overall'] = reviews['review_overall'] * 2\n",
    "reviews"
   ]
  },
  {
   "cell_type": "markdown",
   "id": "c467f74f",
   "metadata": {},
   "source": [
    "WeightedRating(WR)=(v/(v+m)⋅R)+(m/(v+m)⋅C)\n",
    "v = number of votes for the beer\n",
    "m = the minimum number of votes to be listed in the chart\n",
    "R = average rating of the movie\n",
    "C is the mean vote across the whole dataset"
   ]
  },
  {
   "cell_type": "code",
   "execution_count": 58,
   "id": "d9a5bbb9",
   "metadata": {},
   "outputs": [],
   "source": [
    "mean_ratings = reviews.groupby('beer_beerid', as_index=False)['review_overall'].mean()"
   ]
  },
  {
   "cell_type": "code",
   "execution_count": 98,
   "id": "c4349053",
   "metadata": {},
   "outputs": [
    {
     "name": "stderr",
     "output_type": "stream",
     "text": [
      "/Users/kevin/opt/anaconda3/lib/python3.7/site-packages/ipykernel_launcher.py:7: SettingWithCopyWarning: \n",
      "A value is trying to be set on a copy of a slice from a DataFrame.\n",
      "Try using .loc[row_indexer,col_indexer] = value instead\n",
      "\n",
      "See the caveats in the documentation: https://pandas.pydata.org/pandas-docs/stable/user_guide/indexing.html#returning-a-view-versus-a-copy\n",
      "  import sys\n"
     ]
    },
    {
     "data": {
      "text/plain": [
       "9.278189365766117"
      ]
     },
     "execution_count": 98,
     "metadata": {},
     "output_type": "execute_result"
    }
   ],
   "source": [
    "num_votes = pd.DataFrame(data={'beer_id':reviews['beer_beerid'].value_counts().index, 'num_votes':reviews['beer_beerid'].value_counts().values})\n",
    "popular = num_votes.merge(mean_ratings, left_on='beer_id', right_on='beer_beerid')\n",
    "popular.drop(columns=('beer_beerid'), inplace=True)\n",
    "popular.rename(columns={'review_overall': 'mean_rating'}, inplace=True)\n",
    "popular['overall_mean_rating'] = popular['mean_rating'].mean()\n",
    "popular_75 = popular[popular['num_votes']>=10]\n",
    "popular_75['weighted_rating'] = (((popular_75['num_votes'] / (popular_75['num_votes'] + 10)) * popular_75['mean_rating']) + ((10/(popular_75['num_votes'] + 10)) * popular_75['overall_mean_rating']))\n",
    "top_5 = popular_75.sort_values('weighted_rating', ascending=False)[0:5]\n",
    "top_5['mean_rating'].mean()"
   ]
  },
  {
   "cell_type": "code",
   "execution_count": 81,
   "id": "f8c7fb08",
   "metadata": {},
   "outputs": [],
   "source": [
    "beers_key = pd.read_csv('../data/beers_key.csv', index_col=0)"
   ]
  },
  {
   "cell_type": "code",
   "execution_count": 82,
   "id": "c7901c21",
   "metadata": {},
   "outputs": [
    {
     "data": {
      "text/html": [
       "<div>\n",
       "<style scoped>\n",
       "    .dataframe tbody tr th:only-of-type {\n",
       "        vertical-align: middle;\n",
       "    }\n",
       "\n",
       "    .dataframe tbody tr th {\n",
       "        vertical-align: top;\n",
       "    }\n",
       "\n",
       "    .dataframe thead th {\n",
       "        text-align: right;\n",
       "    }\n",
       "</style>\n",
       "<table border=\"1\" class=\"dataframe\">\n",
       "  <thead>\n",
       "    <tr style=\"text-align: right;\">\n",
       "      <th></th>\n",
       "      <th>beer_beerid</th>\n",
       "      <th>beer_name</th>\n",
       "      <th>brewery_name</th>\n",
       "    </tr>\n",
       "  </thead>\n",
       "  <tbody>\n",
       "    <tr>\n",
       "      <th>0</th>\n",
       "      <td>47986</td>\n",
       "      <td>Sausa Weizen</td>\n",
       "      <td>Vecchio Birraio</td>\n",
       "    </tr>\n",
       "    <tr>\n",
       "      <th>1</th>\n",
       "      <td>48213</td>\n",
       "      <td>Red Moon</td>\n",
       "      <td>Vecchio Birraio</td>\n",
       "    </tr>\n",
       "    <tr>\n",
       "      <th>2</th>\n",
       "      <td>48215</td>\n",
       "      <td>Black Horse Black Beer</td>\n",
       "      <td>Vecchio Birraio</td>\n",
       "    </tr>\n",
       "    <tr>\n",
       "      <th>3</th>\n",
       "      <td>47969</td>\n",
       "      <td>Sausa Pils</td>\n",
       "      <td>Vecchio Birraio</td>\n",
       "    </tr>\n",
       "    <tr>\n",
       "      <th>4</th>\n",
       "      <td>64883</td>\n",
       "      <td>Cauldron DIPA</td>\n",
       "      <td>Caldera Brewing Company</td>\n",
       "    </tr>\n",
       "    <tr>\n",
       "      <th>...</th>\n",
       "      <td>...</td>\n",
       "      <td>...</td>\n",
       "      <td>...</td>\n",
       "    </tr>\n",
       "    <tr>\n",
       "      <th>1518459</th>\n",
       "      <td>41749</td>\n",
       "      <td>Irish Amber</td>\n",
       "      <td>The Defiant Brewing Company</td>\n",
       "    </tr>\n",
       "    <tr>\n",
       "      <th>1518461</th>\n",
       "      <td>38160</td>\n",
       "      <td>Highland Porter</td>\n",
       "      <td>The Defiant Brewing Company</td>\n",
       "    </tr>\n",
       "    <tr>\n",
       "      <th>1518462</th>\n",
       "      <td>71234</td>\n",
       "      <td>Baron Von Weizen</td>\n",
       "      <td>The Defiant Brewing Company</td>\n",
       "    </tr>\n",
       "    <tr>\n",
       "      <th>1518463</th>\n",
       "      <td>43233</td>\n",
       "      <td>Double IPA</td>\n",
       "      <td>The Defiant Brewing Company</td>\n",
       "    </tr>\n",
       "    <tr>\n",
       "      <th>1518464</th>\n",
       "      <td>33061</td>\n",
       "      <td>The Horseman's Ale</td>\n",
       "      <td>The Defiant Brewing Company</td>\n",
       "    </tr>\n",
       "  </tbody>\n",
       "</table>\n",
       "<p>49000 rows × 3 columns</p>\n",
       "</div>"
      ],
      "text/plain": [
       "         beer_beerid               beer_name                 brewery_name\n",
       "0              47986            Sausa Weizen              Vecchio Birraio\n",
       "1              48213                Red Moon              Vecchio Birraio\n",
       "2              48215  Black Horse Black Beer              Vecchio Birraio\n",
       "3              47969              Sausa Pils              Vecchio Birraio\n",
       "4              64883           Cauldron DIPA      Caldera Brewing Company\n",
       "...              ...                     ...                          ...\n",
       "1518459        41749             Irish Amber  The Defiant Brewing Company\n",
       "1518461        38160         Highland Porter  The Defiant Brewing Company\n",
       "1518462        71234        Baron Von Weizen  The Defiant Brewing Company\n",
       "1518463        43233              Double IPA  The Defiant Brewing Company\n",
       "1518464        33061      The Horseman's Ale  The Defiant Brewing Company\n",
       "\n",
       "[49000 rows x 3 columns]"
      ]
     },
     "execution_count": 82,
     "metadata": {},
     "output_type": "execute_result"
    }
   ],
   "source": [
    "beers_key"
   ]
  },
  {
   "cell_type": "code",
   "execution_count": 95,
   "id": "c71b0018",
   "metadata": {},
   "outputs": [
    {
     "data": {
      "text/html": [
       "<div>\n",
       "<style scoped>\n",
       "    .dataframe tbody tr th:only-of-type {\n",
       "        vertical-align: middle;\n",
       "    }\n",
       "\n",
       "    .dataframe tbody tr th {\n",
       "        vertical-align: top;\n",
       "    }\n",
       "\n",
       "    .dataframe thead th {\n",
       "        text-align: right;\n",
       "    }\n",
       "</style>\n",
       "<table border=\"1\" class=\"dataframe\">\n",
       "  <thead>\n",
       "    <tr style=\"text-align: right;\">\n",
       "      <th></th>\n",
       "      <th>beer_beerid</th>\n",
       "      <th>beer_name</th>\n",
       "      <th>brewery_name</th>\n",
       "    </tr>\n",
       "  </thead>\n",
       "  <tbody>\n",
       "    <tr>\n",
       "      <th>1078751</th>\n",
       "      <td>7971</td>\n",
       "      <td>Pliny The Elder</td>\n",
       "      <td>Russian River Brewing Company</td>\n",
       "    </tr>\n",
       "  </tbody>\n",
       "</table>\n",
       "</div>"
      ],
      "text/plain": [
       "         beer_beerid        beer_name                   brewery_name\n",
       "1078751         7971  Pliny The Elder  Russian River Brewing Company"
      ]
     },
     "execution_count": 95,
     "metadata": {},
     "output_type": "execute_result"
    }
   ],
   "source": [
    "beers_key[beers_key['beer_beerid'] == 7971]"
   ]
  }
 ],
 "metadata": {
  "kernelspec": {
   "display_name": "Python 3",
   "language": "python",
   "name": "python3"
  },
  "language_info": {
   "codemirror_mode": {
    "name": "ipython",
    "version": 3
   },
   "file_extension": ".py",
   "mimetype": "text/x-python",
   "name": "python",
   "nbconvert_exporter": "python",
   "pygments_lexer": "ipython3",
   "version": "3.7.7"
  }
 },
 "nbformat": 4,
 "nbformat_minor": 5
}
