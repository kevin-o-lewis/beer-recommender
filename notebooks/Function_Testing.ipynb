{
  "nbformat": 4,
  "nbformat_minor": 5,
  "metadata": {
    "kernelspec": {
      "display_name": "Python 3",
      "language": "python",
      "name": "python3"
    },
    "language_info": {
      "codemirror_mode": {
        "name": "ipython",
        "version": 3
      },
      "file_extension": ".py",
      "mimetype": "text/x-python",
      "name": "python",
      "nbconvert_exporter": "python",
      "pygments_lexer": "ipython3",
      "version": "3.7.7"
    },
    "colab": {
      "name": "Function Testing.ipynb",
      "provenance": [],
      "collapsed_sections": [],
      "machine_shape": "hm"
    },
    "accelerator": "GPU"
  },
  "cells": [
    {
      "cell_type": "code",
      "metadata": {
        "id": "d2771ccd"
      },
      "source": [
        "import pandas as pd\n",
        "from surprise.prediction_algorithms.random_pred import NormalPredictor\n",
        "from surprise import SVD\n",
        "from surprise import Dataset\n",
        "from surprise import accuracy\n",
        "from surprise import Reader\n",
        "from surprise.model_selection import train_test_split\n",
        "from surprise.prediction_algorithms.matrix_factorization import SVD\n",
        "from surprise.prediction_algorithms.knns import KNNWithMeans\n",
        "from surprise.prediction_algorithms.slope_one import SlopeOne\n",
        "import io"
      ],
      "id": "d2771ccd",
      "execution_count": 3,
      "outputs": []
    },
    {
      "cell_type": "code",
      "metadata": {
        "colab": {
          "base_uri": "https://localhost:8080/"
        },
        "id": "uckVpR8YxRm-",
        "outputId": "81b66315-b11c-418b-d0b2-315f0a7976c7"
      },
      "source": [
        "beers_key = pd.read_csv('https://raw.githubusercontent.com/kevin-o-lewis/beer-recommender/main/data/beers_key.csv', index_col=0)\n",
        "prediction_table = pd.read_csv('https://raw.githubusercontent.com/kevin-o-lewis/beer-recommender/main/data/beer_ids_for_prediction.csv', index_col=0)\n",
        "test = pd.read_csv('https://raw.githubusercontent.com/kevin-o-lewis/beer-recommender/main/data/test.csv', index_col=0)\n",
        "train = pd.read_csv('https://raw.githubusercontent.com/kevin-o-lewis/beer-recommender/main/data/train.csv', index_col=0)"
      ],
      "id": "uckVpR8YxRm-",
      "execution_count": 83,
      "outputs": [
        {
          "output_type": "stream",
          "text": [
            "/usr/local/lib/python3.7/dist-packages/numpy/lib/arraysetops.py:580: FutureWarning: elementwise comparison failed; returning scalar instead, but in the future will perform elementwise comparison\n",
            "  mask |= (ar1 == a)\n"
          ],
          "name": "stderr"
        }
      ]
    },
    {
      "cell_type": "code",
      "metadata": {
        "colab": {
          "base_uri": "https://localhost:8080/",
          "height": 419
        },
        "id": "g89HyEUtsWAP",
        "outputId": "a46e2443-a7b9-4227-ac7d-21347a9380d5"
      },
      "source": [
        "prediction_table"
      ],
      "id": "g89HyEUtsWAP",
      "execution_count": 96,
      "outputs": [
        {
          "output_type": "execute_result",
          "data": {
            "text/html": [
              "<div>\n",
              "<style scoped>\n",
              "    .dataframe tbody tr th:only-of-type {\n",
              "        vertical-align: middle;\n",
              "    }\n",
              "\n",
              "    .dataframe tbody tr th {\n",
              "        vertical-align: top;\n",
              "    }\n",
              "\n",
              "    .dataframe thead th {\n",
              "        text-align: right;\n",
              "    }\n",
              "</style>\n",
              "<table border=\"1\" class=\"dataframe\">\n",
              "  <thead>\n",
              "    <tr style=\"text-align: right;\">\n",
              "      <th></th>\n",
              "      <th>user</th>\n",
              "      <th>beer_id</th>\n",
              "      <th>predicted_rating</th>\n",
              "    </tr>\n",
              "  </thead>\n",
              "  <tbody>\n",
              "    <tr>\n",
              "      <th>0</th>\n",
              "      <td>None</td>\n",
              "      <td>47986</td>\n",
              "      <td>0</td>\n",
              "    </tr>\n",
              "    <tr>\n",
              "      <th>1</th>\n",
              "      <td>None</td>\n",
              "      <td>48213</td>\n",
              "      <td>0</td>\n",
              "    </tr>\n",
              "    <tr>\n",
              "      <th>2</th>\n",
              "      <td>None</td>\n",
              "      <td>48215</td>\n",
              "      <td>0</td>\n",
              "    </tr>\n",
              "    <tr>\n",
              "      <th>3</th>\n",
              "      <td>None</td>\n",
              "      <td>47969</td>\n",
              "      <td>0</td>\n",
              "    </tr>\n",
              "    <tr>\n",
              "      <th>4</th>\n",
              "      <td>None</td>\n",
              "      <td>64883</td>\n",
              "      <td>0</td>\n",
              "    </tr>\n",
              "    <tr>\n",
              "      <th>...</th>\n",
              "      <td>...</td>\n",
              "      <td>...</td>\n",
              "      <td>...</td>\n",
              "    </tr>\n",
              "    <tr>\n",
              "      <th>1518459</th>\n",
              "      <td>None</td>\n",
              "      <td>41749</td>\n",
              "      <td>0</td>\n",
              "    </tr>\n",
              "    <tr>\n",
              "      <th>1518461</th>\n",
              "      <td>None</td>\n",
              "      <td>38160</td>\n",
              "      <td>0</td>\n",
              "    </tr>\n",
              "    <tr>\n",
              "      <th>1518462</th>\n",
              "      <td>None</td>\n",
              "      <td>71234</td>\n",
              "      <td>0</td>\n",
              "    </tr>\n",
              "    <tr>\n",
              "      <th>1518463</th>\n",
              "      <td>None</td>\n",
              "      <td>43233</td>\n",
              "      <td>0</td>\n",
              "    </tr>\n",
              "    <tr>\n",
              "      <th>1518464</th>\n",
              "      <td>None</td>\n",
              "      <td>33061</td>\n",
              "      <td>0</td>\n",
              "    </tr>\n",
              "  </tbody>\n",
              "</table>\n",
              "<p>49000 rows × 3 columns</p>\n",
              "</div>"
            ],
            "text/plain": [
              "         user  beer_id  predicted_rating\n",
              "0        None    47986                 0\n",
              "1        None    48213                 0\n",
              "2        None    48215                 0\n",
              "3        None    47969                 0\n",
              "4        None    64883                 0\n",
              "...       ...      ...               ...\n",
              "1518459  None    41749                 0\n",
              "1518461  None    38160                 0\n",
              "1518462  None    71234                 0\n",
              "1518463  None    43233                 0\n",
              "1518464  None    33061                 0\n",
              "\n",
              "[49000 rows x 3 columns]"
            ]
          },
          "metadata": {
            "tags": []
          },
          "execution_count": 96
        }
      ]
    },
    {
      "cell_type": "code",
      "metadata": {
        "colab": {
          "base_uri": "https://localhost:8080/"
        },
        "id": "f12d53ac",
        "outputId": "b97724fa-831a-4c33-84a0-914838bedaec"
      },
      "source": [
        "reader = Reader(rating_scale=(1, 10))\n",
        "suprise_train = Dataset.load_from_df(train, reader)\n",
        "full_trainset = suprise_train.build_full_trainset()\n",
        "\n",
        "algo=SVD()\n",
        "algo.fit(full_trainset)"
      ],
      "id": "f12d53ac",
      "execution_count": 13,
      "outputs": [
        {
          "output_type": "execute_result",
          "data": {
            "text/plain": [
              "<surprise.prediction_algorithms.matrix_factorization.SVD at 0x7ff0d8d64b10>"
            ]
          },
          "metadata": {
            "tags": []
          },
          "execution_count": 13
        }
      ]
    },
    {
      "cell_type": "code",
      "metadata": {
        "id": "cYb6CRcH2xR3"
      },
      "source": [
        "prediction_table['user'] = 'changeup45'\n",
        "\n",
        "#algo.predict()\n",
        "\n",
        "for idx in prediction_table.index:\n",
        "    prediction_table.loc[idx, ('predicted_rating')] = algo.predict('changeup45', prediction_table['beer_id'][idx])[3]"
      ],
      "id": "cYb6CRcH2xR3",
      "execution_count": 32,
      "outputs": []
    },
    {
      "cell_type": "code",
      "metadata": {
        "colab": {
          "base_uri": "https://localhost:8080/",
          "height": 204
        },
        "id": "whUh6F_JDdHF",
        "outputId": "9fe16eb8-1cf8-4b22-d78d-e5751dc366f8"
      },
      "source": [
        "top_5 = prediction_table.sort_values(by='predicted_rating', ascending=False)[0:5]['beer_id']\n",
        "results = pd.DataFrame()\n",
        "for beer_id in top_5:\n",
        "    results = results.append(beers_key[beers_key['beer_beerid']==beer_id])\n",
        "results"
      ],
      "id": "whUh6F_JDdHF",
      "execution_count": 80,
      "outputs": [
        {
          "output_type": "execute_result",
          "data": {
            "text/html": [
              "<div>\n",
              "<style scoped>\n",
              "    .dataframe tbody tr th:only-of-type {\n",
              "        vertical-align: middle;\n",
              "    }\n",
              "\n",
              "    .dataframe tbody tr th {\n",
              "        vertical-align: top;\n",
              "    }\n",
              "\n",
              "    .dataframe thead th {\n",
              "        text-align: right;\n",
              "    }\n",
              "</style>\n",
              "<table border=\"1\" class=\"dataframe\">\n",
              "  <thead>\n",
              "    <tr style=\"text-align: right;\">\n",
              "      <th></th>\n",
              "      <th>beer_beerid</th>\n",
              "      <th>beer_name</th>\n",
              "      <th>brewery_name</th>\n",
              "    </tr>\n",
              "  </thead>\n",
              "  <tbody>\n",
              "    <tr>\n",
              "      <th>748344</th>\n",
              "      <td>33127</td>\n",
              "      <td>Darkness</td>\n",
              "      <td>Surly Brewing Company</td>\n",
              "    </tr>\n",
              "    <tr>\n",
              "      <th>1510739</th>\n",
              "      <td>67760</td>\n",
              "      <td>Galaxy Imperial Single Hop IPA</td>\n",
              "      <td>Hill Farmstead Brewery</td>\n",
              "    </tr>\n",
              "    <tr>\n",
              "      <th>135413</th>\n",
              "      <td>47022</td>\n",
              "      <td>Hunahpu's Imperial Stout</td>\n",
              "      <td>Cigar City Brewing</td>\n",
              "    </tr>\n",
              "    <tr>\n",
              "      <th>1116266</th>\n",
              "      <td>2093</td>\n",
              "      <td>90 Minute IPA</td>\n",
              "      <td>Dogfish Head Brewery</td>\n",
              "    </tr>\n",
              "    <tr>\n",
              "      <th>310133</th>\n",
              "      <td>645</td>\n",
              "      <td>Trappistes Rochefort 10</td>\n",
              "      <td>Brasserie de Rochefort</td>\n",
              "    </tr>\n",
              "  </tbody>\n",
              "</table>\n",
              "</div>"
            ],
            "text/plain": [
              "         beer_beerid                       beer_name            brewery_name\n",
              "748344         33127                        Darkness   Surly Brewing Company\n",
              "1510739        67760  Galaxy Imperial Single Hop IPA  Hill Farmstead Brewery\n",
              "135413         47022        Hunahpu's Imperial Stout      Cigar City Brewing\n",
              "1116266         2093                   90 Minute IPA    Dogfish Head Brewery\n",
              "310133           645         Trappistes Rochefort 10  Brasserie de Rochefort"
            ]
          },
          "metadata": {
            "tags": []
          },
          "execution_count": 80
        }
      ]
    },
    {
      "cell_type": "code",
      "metadata": {
        "id": "PkjARRBzBl_R"
      },
      "source": [
        "def load_data():\n",
        "    import pandas as pd\n",
        "\n",
        "    beers_key = pd.read_csv('https://raw.githubusercontent.com/kevin-o-lewis/beer-recommender/main/data/beers_key.csv', index_col=0)\n",
        "    prediction_table = pd.read_csv('https://raw.githubusercontent.com/kevin-o-lewis/beer-recommender/main/data/beer_ids_for_prediction.csv', index_col=0)\n",
        "    test = pd.read_csv('https://raw.githubusercontent.com/kevin-o-lewis/beer-recommender/main/data/test.csv', index_col=0)\n",
        "    train = pd.read_csv('https://raw.githubusercontent.com/kevin-o-lewis/beer-recommender/main/data/train.csv', index_col=0)"
      ],
      "id": "PkjARRBzBl_R",
      "execution_count": 123,
      "outputs": []
    },
    {
      "cell_type": "code",
      "metadata": {
        "id": "da4c50da"
      },
      "source": [
        "def fit_to_trainset(algo):\n",
        "    from surprise import Reader\n",
        "    \n",
        "    reader = Reader(rating_scale=(1, 10))\n",
        "    suprise_train = Dataset.load_from_df(train, reader)\n",
        "    full_trainset = suprise_train.build_full_trainset()\n",
        "    \n",
        "    return algo.fit(full_trainset), print('Fit complete.')\n",
        "    "
      ],
      "id": "da4c50da",
      "execution_count": 124,
      "outputs": []
    },
    {
      "cell_type": "code",
      "metadata": {
        "id": "bdfffce1"
      },
      "source": [
        "def recommend(algo, user):\n",
        "    '''\n",
        "    Parameters:\n",
        "        pre-fit model\n",
        "        username\n",
        "    Returns:\n",
        "        Top 5 recommended beers for that user\n",
        "    '''\n",
        "    \n",
        "    prediction_table['user'] = user\n",
        "    \n",
        "    for idx in prediction_table.index:\n",
        "        prediction_table.loc[idx, ('predicted_rating')] = algo.predict(user, prediction_table['beer_id'][idx])[3]\n",
        "\n",
        "    top_5 = prediction_table.sort_values(by='predicted_rating', ascending=False)[0:5]['beer_id']\n",
        "    results = pd.DataFrame()\n",
        "    for beer_id in top_5:\n",
        "        results = results.append(beers_key[beers_key['beer_beerid']==beer_id])\n",
        "\n",
        "    return results\n",
        "    \n",
        "    # fit algo on train set (surprise trainset object)\n",
        "    # add user to beer_ids_for_prediction\n",
        "    # run algo.predict on beer_ids_for_prediction\n",
        "    # sort results, return top 5 beerids\n",
        "    # translate beer ids to beer names\n",
        "    # return beer names\n",
        "    "
      ],
      "id": "bdfffce1",
      "execution_count": 81,
      "outputs": []
    },
    {
      "cell_type": "code",
      "metadata": {
        "id": "F-E6_1feLYOU"
      },
      "source": [
        "def score(algo, testset):\n",
        "    #pass in a pre-fit model\n",
        "    #make a full ranked prediction list for each user\n",
        "    #look up each prediction in order in the test set\n",
        "    #join the prediction and actual\n",
        "    #compare the order of the ranked beers\n",
        "    top_scores = []\n",
        "    iters = 3\n",
        "    for user in testset['review_profilename'].unique():\n",
        "        iters -= 1\n",
        "        prediction_table['user'] = user\n",
        "        for idx in prediction_table.index:\n",
        "            prediction_table.loc[idx, ('predicted_rating')] = algo.predict(user, prediction_table['beer_id'][idx])[3]\n",
        "\n",
        "        ranked_recommendations = prediction_table.sort_values(by='predicted_rating', ascending=False)\n",
        "        user_test_scores = test[test['review_profilename']==user]\n",
        "        num_scores = 2\n",
        "        for beer_id in ranked_recommendations['beer_id'].values:\n",
        "            if beer_id in list(user_test_scores['beer_beerid']):\n",
        "                num_scores -= 1\n",
        "                print(int(user_test_scores.review_overall[user_test_scores['beer_beerid']==beer_id].values))\n",
        "                top_scores.append(int(user_test_scores.review_overall[user_test_scores['beer_beerid']==beer_id].values))\n",
        "                if num_scores == 0:\n",
        "                    break\n",
        "            else: continue\n",
        "        if iters == 0:\n",
        "            break\n",
        "        print(top_scores)\n",
        "        return sum(top_scores)/len(top_scores)"
      ],
      "id": "F-E6_1feLYOU",
      "execution_count": 197,
      "outputs": []
    },
    {
      "cell_type": "code",
      "metadata": {
        "colab": {
          "base_uri": "https://localhost:8080/"
        },
        "id": "8f523509",
        "outputId": "2fcdf90c-6e85-4ade-a38e-6cd0a9ab79a7"
      },
      "source": [
        "load_data()"
      ],
      "id": "8f523509",
      "execution_count": 125,
      "outputs": [
        {
          "output_type": "stream",
          "text": [
            "/usr/local/lib/python3.7/dist-packages/numpy/lib/arraysetops.py:580: FutureWarning: elementwise comparison failed; returning scalar instead, but in the future will perform elementwise comparison\n",
            "  mask |= (ar1 == a)\n"
          ],
          "name": "stderr"
        }
      ]
    },
    {
      "cell_type": "code",
      "metadata": {
        "colab": {
          "base_uri": "https://localhost:8080/"
        },
        "id": "AdDE8g7zxFl3",
        "outputId": "523a3f05-610c-44dc-c345-ffe684cf8182"
      },
      "source": [
        "fit_to_trainset(SVD())"
      ],
      "id": "AdDE8g7zxFl3",
      "execution_count": 126,
      "outputs": [
        {
          "output_type": "stream",
          "text": [
            "Fit complete.\n"
          ],
          "name": "stdout"
        },
        {
          "output_type": "execute_result",
          "data": {
            "text/plain": [
              "(<surprise.prediction_algorithms.matrix_factorization.SVD at 0x7ff0a80e51d0>,\n",
              " None)"
            ]
          },
          "metadata": {
            "tags": []
          },
          "execution_count": 126
        }
      ]
    },
    {
      "cell_type": "code",
      "metadata": {
        "colab": {
          "base_uri": "https://localhost:8080/",
          "height": 204
        },
        "id": "m0oh0MPwxFpb",
        "outputId": "0d348b60-6d88-4a7d-a4cb-3a0394c64735"
      },
      "source": [
        "recommend(algo, 'changeup45')"
      ],
      "id": "m0oh0MPwxFpb",
      "execution_count": 127,
      "outputs": [
        {
          "output_type": "execute_result",
          "data": {
            "text/html": [
              "<div>\n",
              "<style scoped>\n",
              "    .dataframe tbody tr th:only-of-type {\n",
              "        vertical-align: middle;\n",
              "    }\n",
              "\n",
              "    .dataframe tbody tr th {\n",
              "        vertical-align: top;\n",
              "    }\n",
              "\n",
              "    .dataframe thead th {\n",
              "        text-align: right;\n",
              "    }\n",
              "</style>\n",
              "<table border=\"1\" class=\"dataframe\">\n",
              "  <thead>\n",
              "    <tr style=\"text-align: right;\">\n",
              "      <th></th>\n",
              "      <th>beer_beerid</th>\n",
              "      <th>beer_name</th>\n",
              "      <th>brewery_name</th>\n",
              "    </tr>\n",
              "  </thead>\n",
              "  <tbody>\n",
              "    <tr>\n",
              "      <th>748344</th>\n",
              "      <td>33127</td>\n",
              "      <td>Darkness</td>\n",
              "      <td>Surly Brewing Company</td>\n",
              "    </tr>\n",
              "    <tr>\n",
              "      <th>1510739</th>\n",
              "      <td>67760</td>\n",
              "      <td>Galaxy Imperial Single Hop IPA</td>\n",
              "      <td>Hill Farmstead Brewery</td>\n",
              "    </tr>\n",
              "    <tr>\n",
              "      <th>135413</th>\n",
              "      <td>47022</td>\n",
              "      <td>Hunahpu's Imperial Stout</td>\n",
              "      <td>Cigar City Brewing</td>\n",
              "    </tr>\n",
              "    <tr>\n",
              "      <th>1116266</th>\n",
              "      <td>2093</td>\n",
              "      <td>90 Minute IPA</td>\n",
              "      <td>Dogfish Head Brewery</td>\n",
              "    </tr>\n",
              "    <tr>\n",
              "      <th>310133</th>\n",
              "      <td>645</td>\n",
              "      <td>Trappistes Rochefort 10</td>\n",
              "      <td>Brasserie de Rochefort</td>\n",
              "    </tr>\n",
              "  </tbody>\n",
              "</table>\n",
              "</div>"
            ],
            "text/plain": [
              "         beer_beerid                       beer_name            brewery_name\n",
              "748344         33127                        Darkness   Surly Brewing Company\n",
              "1510739        67760  Galaxy Imperial Single Hop IPA  Hill Farmstead Brewery\n",
              "135413         47022        Hunahpu's Imperial Stout      Cigar City Brewing\n",
              "1116266         2093                   90 Minute IPA    Dogfish Head Brewery\n",
              "310133           645         Trappistes Rochefort 10  Brasserie de Rochefort"
            ]
          },
          "metadata": {
            "tags": []
          },
          "execution_count": 127
        }
      ]
    },
    {
      "cell_type": "code",
      "metadata": {
        "colab": {
          "base_uri": "https://localhost:8080/"
        },
        "id": "RNrO86O2xzDT",
        "outputId": "cc71462f-4731-4e8e-dd67-d2152720ee55"
      },
      "source": [
        "score(algo, test)"
      ],
      "id": "RNrO86O2xzDT",
      "execution_count": 198,
      "outputs": [
        {
          "output_type": "stream",
          "text": [
            "10\n",
            "6\n",
            "[10, 6]\n"
          ],
          "name": "stdout"
        },
        {
          "output_type": "execute_result",
          "data": {
            "text/plain": [
              "8.0"
            ]
          },
          "metadata": {
            "tags": []
          },
          "execution_count": 198
        }
      ]
    }
  ]
}