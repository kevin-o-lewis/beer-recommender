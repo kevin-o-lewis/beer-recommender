{
 "cells": [
  {
   "cell_type": "code",
   "execution_count": 38,
   "id": "3b87ab21",
   "metadata": {},
   "outputs": [],
   "source": [
    "import pandas as pd\n",
    "from surprise.prediction_algorithms.random_pred import NormalPredictor\n",
    "from surprise import SVD\n",
    "from surprise import Dataset\n",
    "from surprise import accuracy\n",
    "from surprise import Reader\n",
    "from surprise.model_selection import train_test_split\n",
    "from surprise.prediction_algorithms.matrix_factorization import SVD\n",
    "from surprise.prediction_algorithms.knns import KNNWithMeans\n",
    "from surprise.prediction_algorithms.slope_one import SlopeOne"
   ]
  },
  {
   "cell_type": "code",
   "execution_count": 20,
   "id": "a57556cf",
   "metadata": {},
   "outputs": [],
   "source": [
    "reviews = pd.read_csv('../data/reviews_dropped_nulls.csv')"
   ]
  },
  {
   "cell_type": "code",
   "execution_count": 21,
   "id": "bd34ee6c",
   "metadata": {},
   "outputs": [],
   "source": [
    "reviews_trimmed = reviews[['review_profilename', 'beer_beerid', 'review_overall']]"
   ]
  },
  {
   "cell_type": "code",
   "execution_count": 22,
   "id": "74cfbad3",
   "metadata": {},
   "outputs": [],
   "source": [
    "reader = Reader(rating_scale=(1, 10))\n",
    "data = Dataset.load_from_df(reviews_trimmed, reader)\n",
    "trainset, testset = train_test_split(data, test_size=.25)"
   ]
  },
  {
   "cell_type": "code",
   "execution_count": 29,
   "id": "6e98f418",
   "metadata": {},
   "outputs": [],
   "source": [
    "test = reviews_trimmed.sample(frac=(1/4))"
   ]
  },
  {
   "cell_type": "code",
   "execution_count": 35,
   "id": "26d68d60",
   "metadata": {},
   "outputs": [
    {
     "data": {
      "text/plain": [
       "Int64Index([ 808500, 1320047,   57762,  502369,  828768,  799306,  677873,\n",
       "            1217943,    5243,  864553,\n",
       "            ...\n",
       "            1337780,  906302,  342930,  113121,  699139,   81205, 1072440,\n",
       "             542250,   91441, 1296823],\n",
       "           dtype='int64', length=379620)"
      ]
     },
     "execution_count": 35,
     "metadata": {},
     "output_type": "execute_result"
    }
   ],
   "source": [
    "test.index"
   ]
  },
  {
   "cell_type": "code",
   "execution_count": 36,
   "id": "a1a3de3f",
   "metadata": {},
   "outputs": [],
   "source": [
    "train = reviews_trimmed.drop(index=list(test.index))"
   ]
  },
  {
   "cell_type": "code",
   "execution_count": 37,
   "id": "3c542d76",
   "metadata": {},
   "outputs": [],
   "source": [
    "test.to_csv('../data/test.csv')\n",
    "train.to_csv('../data/train.csv')"
   ]
  },
  {
   "cell_type": "code",
   "execution_count": 23,
   "id": "6838a2a7",
   "metadata": {},
   "outputs": [
    {
     "name": "stdout",
     "output_type": "stream",
     "text": [
      "RMSE: 1.9884\n"
     ]
    },
    {
     "data": {
      "text/plain": [
       "1.9884351426384776"
      ]
     },
     "execution_count": 23,
     "metadata": {},
     "output_type": "execute_result"
    }
   ],
   "source": [
    "algo = NormalPredictor()\n",
    "\n",
    "# Train the algorithm on the trainset, and predict ratings for the testset\n",
    "algo.fit(trainset)\n",
    "predictions = algo.test(testset)\n",
    "\n",
    "# Then compute RMSE\n",
    "accuracy.rmse(predictions)"
   ]
  },
  {
   "cell_type": "code",
   "execution_count": 24,
   "id": "4dd60ece",
   "metadata": {},
   "outputs": [
    {
     "name": "stdout",
     "output_type": "stream",
     "text": [
      "RMSE: 1.2476\n"
     ]
    },
    {
     "data": {
      "text/plain": [
       "1.2475671523590053"
      ]
     },
     "execution_count": 24,
     "metadata": {},
     "output_type": "execute_result"
    }
   ],
   "source": [
    "algo = SVD()\n",
    "\n",
    "# Train the algorithm on the trainset, and predict ratings for the testset\n",
    "algo.fit(trainset)\n",
    "predictions = algo.test(testset)\n",
    "\n",
    "# Then compute RMSE\n",
    "accuracy.rmse(predictions)"
   ]
  },
  {
   "cell_type": "code",
   "execution_count": 25,
   "id": "42f853c2",
   "metadata": {},
   "outputs": [
    {
     "name": "stdout",
     "output_type": "stream",
     "text": [
      "Computing the msd similarity matrix...\n",
      "Done computing similarity matrix.\n",
      "RMSE: 1.2622\n"
     ]
    },
    {
     "data": {
      "text/plain": [
       "1.262222199254835"
      ]
     },
     "execution_count": 25,
     "metadata": {},
     "output_type": "execute_result"
    }
   ],
   "source": [
    "algo = KNNWithMeans()\n",
    "\n",
    "# Train the algorithm on the trainset, and predict ratings for the testset\n",
    "algo.fit(trainset)\n",
    "predictions = algo.test(testset)\n",
    "\n",
    "# Then compute RMSE\n",
    "accuracy.rmse(predictions)"
   ]
  },
  {
   "cell_type": "code",
   "execution_count": 26,
   "id": "be064ea6",
   "metadata": {},
   "outputs": [
    {
     "name": "stdout",
     "output_type": "stream",
     "text": [
      "RMSE: 1.2345\n"
     ]
    },
    {
     "data": {
      "text/plain": [
       "1.2345004067577392"
      ]
     },
     "execution_count": 26,
     "metadata": {},
     "output_type": "execute_result"
    }
   ],
   "source": [
    "algo = SlopeOne()\n",
    "\n",
    "# Train the algorithm on the trainset, and predict ratings for the testset\n",
    "algo.fit(trainset)\n",
    "predictions = algo.test(testset)\n",
    "\n",
    "# Then compute RMSE\n",
    "accuracy.rmse(predictions)"
   ]
  },
  {
   "cell_type": "code",
   "execution_count": null,
   "id": "7dae8dd4",
   "metadata": {},
   "outputs": [],
   "source": []
  }
 ],
 "metadata": {
  "kernelspec": {
   "display_name": "Python 3",
   "language": "python",
   "name": "python3"
  },
  "language_info": {
   "codemirror_mode": {
    "name": "ipython",
    "version": 3
   },
   "file_extension": ".py",
   "mimetype": "text/x-python",
   "name": "python",
   "nbconvert_exporter": "python",
   "pygments_lexer": "ipython3",
   "version": "3.7.7"
  }
 },
 "nbformat": 4,
 "nbformat_minor": 5
}
