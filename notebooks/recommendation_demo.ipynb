{
  "nbformat": 4,
  "nbformat_minor": 0,
  "metadata": {
    "colab": {
      "name": "recommendation_demo.ipynb",
      "provenance": []
    },
    "kernelspec": {
      "name": "python3",
      "display_name": "Python 3"
    },
    "language_info": {
      "name": "python"
    }
  },
  "cells": [
    {
      "cell_type": "code",
      "metadata": {
        "id": "abV1X2QXkabB"
      },
      "source": [
        "import pandas as pd\n",
        "from surprise.prediction_algorithms.random_pred import NormalPredictor\n",
        "from surprise import SVD\n",
        "from surprise import Dataset\n",
        "from surprise import accuracy\n",
        "from surprise import Reader\n",
        "from surprise.model_selection import train_test_split\n",
        "from surprise.prediction_algorithms.matrix_factorization import SVD\n",
        "from surprise.prediction_algorithms.knns import KNNWithMeans\n",
        "from surprise.prediction_algorithms.slope_one import SlopeOne\n",
        "import io"
      ],
      "execution_count": 6,
      "outputs": []
    },
    {
      "cell_type": "code",
      "metadata": {
        "colab": {
          "base_uri": "https://localhost:8080/",
          "height": 204
        },
        "id": "g3-PUYipp9QC",
        "outputId": "1e02766b-e976-4a77-c0bd-d6c79c8bcb85"
      },
      "source": [
        "pd.DataFrame(data={'Brewery': ['Brouwerij Westvleteren','The Alchemist','Kern River Brewing Company','Brouwerij Drie Fonteinen','Russian River Brewing Company'],\n",
        "                   'Beer': ['Trappist Westvleteren 12','Heady Topper','Citra DIPA','Armand 4 Oude Geuze Lente','Pliny The Elder']})"
      ],
      "execution_count": 20,
      "outputs": [
        {
          "output_type": "execute_result",
          "data": {
            "text/html": [
              "<div>\n",
              "<style scoped>\n",
              "    .dataframe tbody tr th:only-of-type {\n",
              "        vertical-align: middle;\n",
              "    }\n",
              "\n",
              "    .dataframe tbody tr th {\n",
              "        vertical-align: top;\n",
              "    }\n",
              "\n",
              "    .dataframe thead th {\n",
              "        text-align: right;\n",
              "    }\n",
              "</style>\n",
              "<table border=\"1\" class=\"dataframe\">\n",
              "  <thead>\n",
              "    <tr style=\"text-align: right;\">\n",
              "      <th></th>\n",
              "      <th>Brewery</th>\n",
              "      <th>Beer</th>\n",
              "    </tr>\n",
              "  </thead>\n",
              "  <tbody>\n",
              "    <tr>\n",
              "      <th>0</th>\n",
              "      <td>Brouwerij Westvleteren</td>\n",
              "      <td>Trappist Westvleteren 12</td>\n",
              "    </tr>\n",
              "    <tr>\n",
              "      <th>1</th>\n",
              "      <td>The Alchemist</td>\n",
              "      <td>Heady Topper</td>\n",
              "    </tr>\n",
              "    <tr>\n",
              "      <th>2</th>\n",
              "      <td>Kern River Brewing Company</td>\n",
              "      <td>Citra DIPA</td>\n",
              "    </tr>\n",
              "    <tr>\n",
              "      <th>3</th>\n",
              "      <td>Brouwerij Drie Fonteinen</td>\n",
              "      <td>Armand 4 Oude Geuze Lente</td>\n",
              "    </tr>\n",
              "    <tr>\n",
              "      <th>4</th>\n",
              "      <td>Russian River Brewing Company</td>\n",
              "      <td>Pliny The Elder</td>\n",
              "    </tr>\n",
              "  </tbody>\n",
              "</table>\n",
              "</div>"
            ],
            "text/plain": [
              "                         Brewery                       Beer\n",
              "0         Brouwerij Westvleteren   Trappist Westvleteren 12\n",
              "1                  The Alchemist               Heady Topper\n",
              "2     Kern River Brewing Company                 Citra DIPA\n",
              "3       Brouwerij Drie Fonteinen  Armand 4 Oude Geuze Lente\n",
              "4  Russian River Brewing Company            Pliny The Elder"
            ]
          },
          "metadata": {
            "tags": []
          },
          "execution_count": 20
        }
      ]
    },
    {
      "cell_type": "code",
      "metadata": {
        "colab": {
          "base_uri": "https://localhost:8080/"
        },
        "id": "PpJDT-ofkezT",
        "outputId": "081ed605-61b7-4f70-8bdc-223e12bcb0d4"
      },
      "source": [
        "!pip install surprise"
      ],
      "execution_count": 5,
      "outputs": [
        {
          "output_type": "stream",
          "text": [
            "Collecting surprise\n",
            "  Downloading surprise-0.1-py2.py3-none-any.whl (1.8 kB)\n",
            "Collecting scikit-surprise\n",
            "  Downloading scikit-surprise-1.1.1.tar.gz (11.8 MB)\n",
            "\u001b[K     |████████████████████████████████| 11.8 MB 16.2 MB/s \n",
            "\u001b[?25hRequirement already satisfied: joblib>=0.11 in /usr/local/lib/python3.7/dist-packages (from scikit-surprise->surprise) (1.0.1)\n",
            "Requirement already satisfied: numpy>=1.11.2 in /usr/local/lib/python3.7/dist-packages (from scikit-surprise->surprise) (1.19.5)\n",
            "Requirement already satisfied: scipy>=1.0.0 in /usr/local/lib/python3.7/dist-packages (from scikit-surprise->surprise) (1.4.1)\n",
            "Requirement already satisfied: six>=1.10.0 in /usr/local/lib/python3.7/dist-packages (from scikit-surprise->surprise) (1.15.0)\n",
            "Building wheels for collected packages: scikit-surprise\n",
            "  Building wheel for scikit-surprise (setup.py) ... \u001b[?25l\u001b[?25hdone\n",
            "  Created wheel for scikit-surprise: filename=scikit_surprise-1.1.1-cp37-cp37m-linux_x86_64.whl size=1617765 sha256=52d663d0412526e368f4a23641c9bd222814891cd6834fbed4d3b32dc552a392\n",
            "  Stored in directory: /root/.cache/pip/wheels/76/44/74/b498c42be47b2406bd27994e16c5188e337c657025ab400c1c\n",
            "Successfully built scikit-surprise\n",
            "Installing collected packages: scikit-surprise, surprise\n",
            "Successfully installed scikit-surprise-1.1.1 surprise-0.1\n"
          ],
          "name": "stdout"
        }
      ]
    },
    {
      "cell_type": "code",
      "metadata": {
        "id": "ssWGtrQpke1_"
      },
      "source": [
        "def load_data():\n",
        "    import pandas as pd\n",
        "\n",
        "    beers_key = pd.read_csv('https://raw.githubusercontent.com/kevin-o-lewis/beer-recommender/main/data/beers_key.csv', index_col=0)\n",
        "    prediction_table = pd.read_csv('https://raw.githubusercontent.com/kevin-o-lewis/beer-recommender/main/data/beer_ids_for_prediction.csv', index_col=0)\n",
        "    test = pd.read_csv('https://raw.githubusercontent.com/kevin-o-lewis/beer-recommender/main/data/test.csv', index_col=0)\n",
        "    train = pd.read_csv('https://raw.githubusercontent.com/kevin-o-lewis/beer-recommender/main/data/train.csv', index_col=0)\n",
        "\n",
        "    return beers_key,prediction_table,test,train"
      ],
      "execution_count": 1,
      "outputs": []
    },
    {
      "cell_type": "code",
      "metadata": {
        "id": "a_EjIvNWkhd2"
      },
      "source": [
        "def fit_to_trainset(algo):\n",
        "    from surprise import Reader\n",
        "    \n",
        "    reader = Reader(rating_scale=(1, 10))\n",
        "    suprise_train = Dataset.load_from_df(train, reader)\n",
        "    full_trainset = suprise_train.build_full_trainset()\n",
        "    algo = algo.fit(full_trainset)\n",
        "    print('Fit complete.')\n",
        "    return algo"
      ],
      "execution_count": 2,
      "outputs": []
    },
    {
      "cell_type": "code",
      "metadata": {
        "id": "1CTwWzLNkhh4"
      },
      "source": [
        "def recommend(algo, user):\n",
        "    '''\n",
        "    Parameters:\n",
        "        pre-fit model\n",
        "        username\n",
        "    Returns:\n",
        "        Top 5 recommended beers for that user\n",
        "    '''\n",
        "    if train['review_profilename'].value_counts()[user] < 10:\n",
        "        print('This user has too few reviews to make a personalized recommendation. Try our most popular beers instead!')\n",
        "        return pd.DataFrame(data={'Brewery': ['Brouwerij Westvleteren','The Alchemist','Kern River Brewing Company','Brouwerij Drie Fonteinen','Russian River Brewing Company'],\n",
        "                   'Beer': ['Trappist Westvleteren 12','Heady Topper','Citra DIPA','Armand 4 Oude Geuze Lente','Pliny The Elder']})\n",
        "\n",
        "    prediction_table['user'] = user\n",
        "    \n",
        "    for idx in prediction_table.index:\n",
        "        prediction_table.loc[idx, ('predicted_rating')] = algo.predict(user, prediction_table['beer_id'][idx])[3]\n",
        "    top_5 = prediction_table.sort_values(by='predicted_rating', ascending=False)[0:5]['beer_id']\n",
        "    results = pd.DataFrame()\n",
        "    for beer_id in top_5:\n",
        "        results = results.append(beers_key[beers_key['beer_beerid']==beer_id])\n",
        "\n",
        "\n",
        "    return results"
      ],
      "execution_count": 40,
      "outputs": []
    },
    {
      "cell_type": "code",
      "metadata": {
        "colab": {
          "base_uri": "https://localhost:8080/"
        },
        "id": "ox30RvCLkhmp",
        "outputId": "dc4e6814-3a3c-4c41-a814-93922ef3951c"
      },
      "source": [
        "beers_key,prediction_table,test,train = load_data()"
      ],
      "execution_count": 3,
      "outputs": [
        {
          "output_type": "stream",
          "text": [
            "/usr/local/lib/python3.7/dist-packages/numpy/lib/arraysetops.py:580: FutureWarning: elementwise comparison failed; returning scalar instead, but in the future will perform elementwise comparison\n",
            "  mask |= (ar1 == a)\n"
          ],
          "name": "stderr"
        }
      ]
    },
    {
      "cell_type": "code",
      "metadata": {
        "id": "gj3hwSJ3nRj-"
      },
      "source": [
        "model1 = NormalPredictor()\n",
        "model2 = SVD(n_factors= 10, n_epochs= 20, lr_all= 0.005, reg_all= 0.03)"
      ],
      "execution_count": 10,
      "outputs": []
    },
    {
      "cell_type": "code",
      "metadata": {
        "colab": {
          "base_uri": "https://localhost:8080/"
        },
        "id": "rwRKZTANlvKF",
        "outputId": "8658bdb1-35e3-4b0c-fe2d-53a65a947df5"
      },
      "source": [
        "fit_to_trainset(model1)\n",
        "fit_to_trainset(model2)"
      ],
      "execution_count": 11,
      "outputs": [
        {
          "output_type": "stream",
          "text": [
            "Fit complete.\n",
            "Fit complete.\n"
          ],
          "name": "stdout"
        },
        {
          "output_type": "execute_result",
          "data": {
            "text/plain": [
              "<surprise.prediction_algorithms.matrix_factorization.SVD at 0x7fb90cefc110>"
            ]
          },
          "metadata": {
            "tags": []
          },
          "execution_count": 11
        }
      ]
    },
    {
      "cell_type": "code",
      "metadata": {
        "colab": {
          "base_uri": "https://localhost:8080/",
          "height": 204
        },
        "id": "MU1YQ1zjoVtu",
        "outputId": "80111424-74cf-4c95-b0fc-854df84bedae"
      },
      "source": [
        "recommend(model1, 'changeup45')"
      ],
      "execution_count": 41,
      "outputs": [
        {
          "output_type": "execute_result",
          "data": {
            "text/html": [
              "<div>\n",
              "<style scoped>\n",
              "    .dataframe tbody tr th:only-of-type {\n",
              "        vertical-align: middle;\n",
              "    }\n",
              "\n",
              "    .dataframe tbody tr th {\n",
              "        vertical-align: top;\n",
              "    }\n",
              "\n",
              "    .dataframe thead th {\n",
              "        text-align: right;\n",
              "    }\n",
              "</style>\n",
              "<table border=\"1\" class=\"dataframe\">\n",
              "  <thead>\n",
              "    <tr style=\"text-align: right;\">\n",
              "      <th></th>\n",
              "      <th>beer_beerid</th>\n",
              "      <th>beer_name</th>\n",
              "      <th>brewery_name</th>\n",
              "    </tr>\n",
              "  </thead>\n",
              "  <tbody>\n",
              "    <tr>\n",
              "      <th>418664</th>\n",
              "      <td>50543</td>\n",
              "      <td>Black Science</td>\n",
              "      <td>AMB - Maître Brasseur</td>\n",
              "    </tr>\n",
              "    <tr>\n",
              "      <th>1233034</th>\n",
              "      <td>10449</td>\n",
              "      <td>Railhead Red</td>\n",
              "      <td>Beaver Street Brewery &amp; Whistle Stop Cafe</td>\n",
              "    </tr>\n",
              "    <tr>\n",
              "      <th>1008975</th>\n",
              "      <td>52011</td>\n",
              "      <td>4:20 Smuggle Brew</td>\n",
              "      <td>Brouwerij Kerkom</td>\n",
              "    </tr>\n",
              "    <tr>\n",
              "      <th>934063</th>\n",
              "      <td>17234</td>\n",
              "      <td>Karlsbräu</td>\n",
              "      <td>Karlsberg Brauerei</td>\n",
              "    </tr>\n",
              "    <tr>\n",
              "      <th>97423</th>\n",
              "      <td>23083</td>\n",
              "      <td>Hvede</td>\n",
              "      <td>Herslev Bryghus</td>\n",
              "    </tr>\n",
              "  </tbody>\n",
              "</table>\n",
              "</div>"
            ],
            "text/plain": [
              "         beer_beerid  ...                               brewery_name\n",
              "418664         50543  ...                      AMB - Maître Brasseur\n",
              "1233034        10449  ...  Beaver Street Brewery & Whistle Stop Cafe\n",
              "1008975        52011  ...                           Brouwerij Kerkom\n",
              "934063         17234  ...                         Karlsberg Brauerei\n",
              "97423          23083  ...                            Herslev Bryghus\n",
              "\n",
              "[5 rows x 3 columns]"
            ]
          },
          "metadata": {
            "tags": []
          },
          "execution_count": 41
        }
      ]
    },
    {
      "cell_type": "code",
      "metadata": {
        "colab": {
          "base_uri": "https://localhost:8080/",
          "height": 49
        },
        "id": "w5AJlIExuKiS",
        "outputId": "6a32a7de-0e65-44b7-bbbf-39f12127721f"
      },
      "source": [
        "user_test_ratings = test[test['review_profilename']=='changeup45']\n",
        "user_test_ratings[user_test_ratings['beer_beerid']==39839]"
      ],
      "execution_count": 39,
      "outputs": [
        {
          "output_type": "execute_result",
          "data": {
            "text/html": [
              "<div>\n",
              "<style scoped>\n",
              "    .dataframe tbody tr th:only-of-type {\n",
              "        vertical-align: middle;\n",
              "    }\n",
              "\n",
              "    .dataframe tbody tr th {\n",
              "        vertical-align: top;\n",
              "    }\n",
              "\n",
              "    .dataframe thead th {\n",
              "        text-align: right;\n",
              "    }\n",
              "</style>\n",
              "<table border=\"1\" class=\"dataframe\">\n",
              "  <thead>\n",
              "    <tr style=\"text-align: right;\">\n",
              "      <th></th>\n",
              "      <th>review_profilename</th>\n",
              "      <th>beer_beerid</th>\n",
              "      <th>review_overall</th>\n",
              "    </tr>\n",
              "  </thead>\n",
              "  <tbody>\n",
              "  </tbody>\n",
              "</table>\n",
              "</div>"
            ],
            "text/plain": [
              "Empty DataFrame\n",
              "Columns: [review_profilename, beer_beerid, review_overall]\n",
              "Index: []"
            ]
          },
          "metadata": {
            "tags": []
          },
          "execution_count": 39
        }
      ]
    }
  ]
}